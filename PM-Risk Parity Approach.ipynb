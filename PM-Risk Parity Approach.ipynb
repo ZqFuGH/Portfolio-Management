{
 "cells": [
  {
   "cell_type": "markdown",
   "metadata": {},
   "source": [
    "# Risk Parity Approach to Equity Asset Allocation"
   ]
  },
  {
   "cell_type": "code",
   "execution_count": null,
   "metadata": {},
   "outputs": [],
   "source": [
    "import pandas_datareader.data as web\n",
    "import datetime\n",
    "from scipy.optimize import minimize\n",
    "TOLERANCE = 1e-10"
   ]
  },
  {
   "cell_type": "code",
   "execution_count": null,
   "metadata": {},
   "outputs": [],
   "source": [
    "## Data Input\n",
    "# Initial weights: equally weighted\n",
    "init_weights = [1 / X_train.shape[1]] * X_train.shape[1]\n",
    "covariances = returns.cov()\n",
    "\n",
    "# Key difference to inverse volatility models:\n",
    "# The desired contribution of each asset to the portfolio risk: we want all\n",
    "# asset to contribute equally (verifying this part)\n",
    "assets_risk_budget = [1 / X_train.shape[1]] * X_train.shape[1]\n",
    "\n",
    "# convert dataframe to arrays\n",
    "init_weights = np.array(init_weights)\n",
    "covariances = covariances.values"
   ]
  },
  {
   "cell_type": "code",
   "execution_count": null,
   "metadata": {},
   "outputs": [],
   "source": [
    "np.multiply(init_weights.T, covariances * init_weights.T)\n",
    "init_weights*covariances * init_weights.T"
   ]
  },
  {
   "cell_type": "code",
   "execution_count": null,
   "metadata": {},
   "outputs": [],
   "source": [
    "def _allocation_risk(weights, covariances):\n",
    "\n",
    "    # portfolio_risk = np.sqrt((weights * covariances * weights.T))\n",
    "    portfolio_risk = np.sqrt((weights * covariances * weights.T))[0, 0]\n",
    "\n",
    "    return portfolio_risk\n",
    "\n",
    "def _assets_risk_contribution_to_allocation_risk(weights, covariances):\n",
    "\n",
    "    # risk of the weights distribution\n",
    "    portfolio_risk = _allocation_risk(weights, covariances)\n",
    "\n",
    "    # the contribution of each asset to the risk\n",
    "    assets_risk_contribution = np.multiply(weights.T, covariances * weights.T) \\\n",
    "        / portfolio_risk\n",
    "\n",
    "    return assets_risk_contribution\n",
    "\n",
    "def _risk_budget_objective_error(weights, args):\n",
    "\n",
    "    covariances = args[0]\n",
    "    assets_risk_budget = args[1]\n",
    "    weights = np.matrix(weights)\n",
    "\n",
    "    portfolio_risk = _allocation_risk(weights, covariances)\n",
    "\n",
    "    # the contribution of each asset to the risk of the weights distribution\n",
    "    assets_risk_contribution = \\\n",
    "        _assets_risk_contribution_to_allocation_risk(weights, covariances)\n",
    "\n",
    "    # the desired contribution of each asset to the risk of the\n",
    "    # weights distribution\n",
    "    assets_risk_target = \\\n",
    "        np.asmatrix(np.multiply(portfolio_risk, assets_risk_budget))\n",
    "\n",
    "    # Error between the desired contribution and the calculated contribution of\n",
    "    # each asset (to be minimized)\n",
    "    error = \\\n",
    "        sum(np.square(assets_risk_contribution - assets_risk_target.T))[0, 0]\n",
    "\n",
    "    return error\n",
    "\n",
    "def _get_risk_parity_weights(covariances, assets_risk_budget, initial_weights):\n",
    "\n",
    "    # Restrictions to consider in the optimisation: only long positions whose\n",
    "    # sum equals 100%\n",
    "    constraints = ({'type': 'eq', 'fun': lambda x: np.sum(x) - 1.0},\n",
    "                   {'type': 'ineq', 'fun': lambda x: x})\n",
    "\n",
    "    # Optimisation process in scipy\n",
    "    optimize_result = minimize(fun=_risk_budget_objective_error,\n",
    "                               x0=initial_weights,\n",
    "                               args=[covariances, assets_risk_budget],\n",
    "                               method='SLSQP',\n",
    "                               constraints=constraints,\n",
    "                               tol=TOLERANCE,\n",
    "                               options={'disp': False})\n",
    "\n",
    "    # Recover the weights from the optimised object\n",
    "    weights = optimize_result.x\n",
    "\n",
    "    return weights\n",
    "\n",
    "def get_weights(covariances, assets_risk_budget, init_weights):\n",
    "\n",
    "    # Optimisation process of weights\n",
    "    weights = \\\n",
    "        _get_risk_parity_weights(covariances, assets_risk_budget, init_weights)\n",
    "\n",
    "    # Convert the weights to a pandas Series\n",
    "    weights = pd.Series(weights, index=X_train.columns, name='weight')\n",
    "\n",
    "    return weights"
   ]
  },
  {
   "cell_type": "code",
   "execution_count": null,
   "metadata": {},
   "outputs": [],
   "source": [
    "get_weights(covariances, assets_risk_budget, init_weights)"
   ]
  }
 ],
 "metadata": {
  "language_info": {
   "name": "python"
  }
 },
 "nbformat": 4,
 "nbformat_minor": 2
}
